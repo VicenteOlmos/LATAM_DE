{
 "cells": [
  {
   "cell_type": "markdown",
   "metadata": {},
   "source": [
    "En este archivo puedes escribir lo que estimes conveniente. Te recomendamos detallar tu solución y todas las suposiciones que estás considerando. Aquí puedes ejecutar las funciones que definiste en los otros archivos de la carpeta src, medir el tiempo, memoria, etc."
   ]
  },
  {
   "cell_type": "code",
   "execution_count": 1,
   "metadata": {},
   "outputs": [],
   "source": [
    "from typing import List, Tuple\n",
    "from datetime import datetime\n",
    "import json\n",
    "import time\n",
    "import sqlite3\n",
    "import emoji\n",
    "\n",
    "file_path = \"farmers-protest-tweets-2021-2-4.json\""
   ]
  },
  {
   "cell_type": "code",
   "execution_count": 2,
   "metadata": {},
   "outputs": [],
   "source": [
    "\"\"\"\n",
    "Las top 10 fechas donde hay más tweets. Mencionar el usuario (username) que más publicaciones tiene por cada uno de esos días\n",
    "{\n",
    "\"date\": \"2021-02-04\",\n",
    "    \"user\"={\n",
    "\"id\": 123456,\n",
    "\"username\": \"user1\",\n",
    "}\n",
    "}\n",
    "\n",
    "\"\"\"\n",
    "\n",
    "\n",
    "def q1_time(file_path: str) -> List[Tuple[datetime.date, str]]:\n",
    "    conn = sqlite3.connect(\"tweets.db\")\n",
    "    c = conn.cursor()\n",
    "\n",
    "    c.execute(\n",
    "        \"\"\"CREATE TABLE IF NOT EXISTS tweets\n",
    "                 (date TEXT, user TEXT, tweet TEXT)\"\"\"\n",
    "    )\n",
    "    conn.commit()\n",
    "\n",
    "    c.execute(\"SELECT COUNT(*) FROM tweets\")\n",
    "    count = c.fetchone()[0]\n",
    "    if count == 0:\n",
    "        with open(file_path, \"r\") as file:\n",
    "            for line in file:\n",
    "                tweet = json.loads(line)\n",
    "                date = tweet[\"date\"][:10]\n",
    "                user = tweet[\"user\"][\"username\"]\n",
    "                tweet_text = tweet[\"content\"]\n",
    "                c.execute(\n",
    "                    \"INSERT INTO tweets (date, user, tweet) VALUES (?, ?, ?)\",\n",
    "                    (date, user, tweet_text),\n",
    "                )\n",
    "        conn.commit()\n",
    "\n",
    "    query_top_dates = \"\"\"\n",
    "    SELECT date\n",
    "    FROM tweets\n",
    "    GROUP BY date\n",
    "    ORDER BY COUNT(*) DESC\n",
    "    LIMIT 10\n",
    "    \"\"\"\n",
    "    c.execute(query_top_dates)\n",
    "    top_dates = [row[0] for row in c.fetchall()]\n",
    "\n",
    "    top_users_per_date = []\n",
    "    for date in top_dates:\n",
    "        query_top_user = f\"\"\"\n",
    "        SELECT user, COUNT(*) as tweet_count\n",
    "        FROM tweets\n",
    "        WHERE date = '{date}'\n",
    "        GROUP BY user\n",
    "        ORDER BY tweet_count DESC\n",
    "        LIMIT 1\n",
    "        \"\"\"\n",
    "        c.execute(query_top_user)\n",
    "        top_user,_ = c.fetchone()\n",
    "        top_users_per_date.append(\n",
    "            (datetime.strptime(date, \"%Y-%m-%d\").date(), top_user)\n",
    "        )\n",
    "    conn.close()\n",
    "\n",
    "    return top_users_per_date"
   ]
  },
  {
   "cell_type": "code",
   "execution_count": 3,
   "metadata": {},
   "outputs": [],
   "source": [
    "# BST para almacenar los tweets por fecha y usuario y luego obtener los top 10 usuarios, esto esta pensando para que las proximas consultas sean mas rapidas\n",
    "def q1_memory(file_path: str) -> List[Tuple[datetime.date, str]]:\n",
    "    class BSTNode:\n",
    "        def __init__(self, date, user):\n",
    "            self.date = date\n",
    "            self.users = {user: 1}\n",
    "            self.left = None\n",
    "            self.right = None\n",
    "\n",
    "        def insert(self, date, user):\n",
    "            if date < self.date:\n",
    "                if self.left is None:\n",
    "                    self.left = BSTNode(date, user)\n",
    "                else:\n",
    "                    self.left.insert(date, user)\n",
    "            elif date > self.date:\n",
    "                if self.right is None:\n",
    "                    self.right = BSTNode(date, user)\n",
    "                else:\n",
    "                    self.right.insert(date, user)\n",
    "            else:\n",
    "                if user in self.users:\n",
    "                    self.users[user] += 1\n",
    "                else:\n",
    "                    self.users[user] = 1\n",
    "\n",
    "        def get_top_users(self):\n",
    "            data = []\n",
    "            if self.left:\n",
    "                data.extend(self.left.get_top_users())\n",
    "            data.append(\n",
    "                (\n",
    "                    self.date,\n",
    "                    max(self.users, key=self.users.get),\n",
    "                    sum(self.users.values()),\n",
    "                )\n",
    "            )\n",
    "            if self.right:\n",
    "                data.extend(self.right.get_top_users())\n",
    "            return data\n",
    "\n",
    "    root = None\n",
    "    with open(file_path, \"r\") as file:\n",
    "        for line in file:\n",
    "            tweet = json.loads(line)\n",
    "            date = datetime.fromisoformat(tweet[\"date\"]).date()\n",
    "            user = tweet[\"user\"][\"username\"]\n",
    "            if root is None:\n",
    "                root = BSTNode(date, user)\n",
    "            else:\n",
    "                root.insert(date, user)\n",
    "\n",
    "    all_data = root.get_top_users() if root else []\n",
    "    top_dates = sorted(all_data, key=lambda x: x[2], reverse=True)[:10]\n",
    "    return [(date, user) for date, user, _ in top_dates]"
   ]
  },
  {
   "cell_type": "code",
   "execution_count": 4,
   "metadata": {},
   "outputs": [
    {
     "name": "stdout",
     "output_type": "stream",
     "text": [
      "peak memory: 87.45 MiB, increment: 6.45 MiB\n"
     ]
    }
   ],
   "source": [
    "%reload_ext memory_profiler\n",
    "%memit top_dates = q1_memory(file_path)\n"
   ]
  },
  {
   "cell_type": "code",
   "execution_count": 5,
   "metadata": {},
   "outputs": [
    {
     "name": "stdout",
     "output_type": "stream",
     "text": [
      "peak memory: 90.27 MiB, increment: 4.85 MiB\n"
     ]
    }
   ],
   "source": [
    "%reload_ext memory_profiler\n",
    "%memit top_dates = q1_time(file_path)"
   ]
  },
  {
   "cell_type": "code",
   "execution_count": 6,
   "metadata": {},
   "outputs": [
    {
     "name": "stdout",
     "output_type": "stream",
     "text": [
      "[(datetime.date(2021, 2, 12), 'RanbirS00614606'), (datetime.date(2021, 2, 13), 'MaanDee08215437'), (datetime.date(2021, 2, 17), 'RaaJVinderkaur'), (datetime.date(2021, 2, 16), 'jot__b'), (datetime.date(2021, 2, 14), 'rebelpacifist'), (datetime.date(2021, 2, 18), 'neetuanjle_nitu'), (datetime.date(2021, 2, 15), 'jot__b'), (datetime.date(2021, 2, 20), 'MangalJ23056160'), (datetime.date(2021, 2, 23), 'Surrypuria'), (datetime.date(2021, 2, 19), 'Preetm91')]\n",
      "q1_time: 1.0452218055725098 s\n"
     ]
    }
   ],
   "source": [
    "start_time = time.time()\n",
    "top_dates = q1_time(file_path)\n",
    "end_time = time.time()\n",
    "print(top_dates)\n",
    "print(\"q1_time:\", end_time - start_time, \"s\")"
   ]
  },
  {
   "cell_type": "code",
   "execution_count": 7,
   "metadata": {},
   "outputs": [
    {
     "name": "stdout",
     "output_type": "stream",
     "text": [
      "[(datetime.date(2021, 2, 12), 'RanbirS00614606'), (datetime.date(2021, 2, 13), 'MaanDee08215437'), (datetime.date(2021, 2, 17), 'RaaJVinderkaur'), (datetime.date(2021, 2, 16), 'jot__b'), (datetime.date(2021, 2, 14), 'rebelpacifist'), (datetime.date(2021, 2, 18), 'neetuanjle_nitu'), (datetime.date(2021, 2, 15), 'jot__b'), (datetime.date(2021, 2, 20), 'MangalJ23056160'), (datetime.date(2021, 2, 23), 'Surrypuria'), (datetime.date(2021, 2, 19), 'Preetm91')]\n",
      "q1_memory: 3.090492010116577 s\n"
     ]
    }
   ],
   "source": [
    "start_time = time.time()\n",
    "top_dates = q1_memory(file_path)\n",
    "end_time = time.time()\n",
    "print(top_dates)\n",
    "print(\"q1_memory:\", end_time - start_time, \"s\")"
   ]
  },
  {
   "cell_type": "code",
   "execution_count": 8,
   "metadata": {},
   "outputs": [],
   "source": [
    "\"\"\"\n",
    "Los top 10 emojis más usados con su respectivo conteo\n",
    "{\n",
    "\"content\":\"emoji\"\n",
    "}\n",
    "\"\"\"\n",
    "\n",
    "\n",
    "def q2_time(file_path: str) -> List[Tuple[str, int]]:\n",
    "    conn = sqlite3.connect(\"emojis.db\")\n",
    "    c = conn.cursor()\n",
    "\n",
    "    c.execute(\n",
    "        \"\"\"CREATE TABLE IF NOT EXISTS tweets\n",
    "                 (content TEXT)\"\"\"\n",
    "    )\n",
    "    conn.commit()\n",
    "\n",
    "    c.execute(\"SELECT COUNT(*) FROM tweets\")\n",
    "    count = c.fetchone()[0]\n",
    "    if count == 0:\n",
    "        with open(file_path, \"r\") as file:\n",
    "            for line in file:\n",
    "                tweet = json.loads(line)\n",
    "                tweet_text = tweet[\"content\"]\n",
    "                c.execute(\n",
    "                    \"INSERT INTO tweets (content) VALUES (?)\",\n",
    "                    (str(tweet_text),),\n",
    "                )\n",
    "        conn.commit()\n",
    "\n",
    "    query_top_emojis = \"\"\" SELECT content FROM tweets\"\"\"\n",
    "    c.execute(query_top_emojis)\n",
    "\n",
    "    emoji_counter = {}\n",
    "    for row in c.fetchall():\n",
    "        tweet = row[0]\n",
    "        for char in tweet:\n",
    "            if char in emoji.UNICODE_EMOJI['en']:\n",
    "                if char in emoji_counter:\n",
    "                    emoji_counter[char] += 1\n",
    "                else:\n",
    "                    emoji_counter[char] = 1\n",
    "    conn.close()\n",
    "        \n",
    "    return sorted(emoji_counter.items(), key=lambda x: x[1], reverse=True)[:10]"
   ]
  },
  {
   "cell_type": "code",
   "execution_count": 9,
   "metadata": {},
   "outputs": [],
   "source": [
    "def q2_memory(file_path: str) -> List[Tuple[str, int]]:\n",
    "    class BSTNode:\n",
    "        def __init__(self, emoji):\n",
    "            self.emoji = emoji\n",
    "            self.counter = 1\n",
    "            self.left = None\n",
    "            self.right = None\n",
    "\n",
    "        def insert(self, emoji):\n",
    "            if emoji < self.emoji:\n",
    "                if self.left is None:\n",
    "                    self.left = BSTNode(emoji)\n",
    "                else:\n",
    "                    self.left.insert(emoji)\n",
    "            elif emoji > self.emoji:\n",
    "                if self.right is None:\n",
    "                    self.right = BSTNode(emoji)\n",
    "                else:\n",
    "                    self.right.insert(emoji)\n",
    "            else:\n",
    "                self.counter += 1\n",
    "\n",
    "        def get_top_emojis(self):\n",
    "            data = []\n",
    "            if self.left:\n",
    "                data.extend(self.left.get_top_emojis())\n",
    "            data.append((self.emoji, self.counter))\n",
    "            if self.right:\n",
    "                data.extend(self.right.get_top_emojis())\n",
    "            return data\n",
    "\n",
    "    root = None\n",
    "    with open(file_path, \"r\") as file:\n",
    "        for line in file:\n",
    "            tweet = json.loads(line)\n",
    "            for char in tweet[\"content\"]:\n",
    "                if char in emoji.UNICODE_EMOJI[\"en\"]:\n",
    "                    if root is None:\n",
    "                        root = BSTNode(char)\n",
    "                    else:\n",
    "                        root.insert(char)\n",
    "            \n",
    "\n",
    "    all_data = root.get_top_emojis() if root else []\n",
    "    return sorted(all_data, key=lambda x: x[1], reverse=True)[:10]"
   ]
  },
  {
   "cell_type": "code",
   "execution_count": 10,
   "metadata": {},
   "outputs": [
    {
     "name": "stdout",
     "output_type": "stream",
     "text": [
      "peak memory: 86.35 MiB, increment: 0.00 MiB\n"
     ]
    }
   ],
   "source": [
    "%reload_ext memory_profiler\n",
    "%memit top_dates = q2_memory(file_path)"
   ]
  },
  {
   "cell_type": "code",
   "execution_count": 11,
   "metadata": {},
   "outputs": [
    {
     "name": "stdout",
     "output_type": "stream",
     "text": [
      "peak memory: 129.96 MiB, increment: 43.91 MiB\n"
     ]
    }
   ],
   "source": [
    "%reload_ext memory_profiler\n",
    "%memit top_dates = q2_time(file_path)"
   ]
  },
  {
   "cell_type": "code",
   "execution_count": 12,
   "metadata": {},
   "outputs": [
    {
     "name": "stdout",
     "output_type": "stream",
     "text": [
      "[('🙏', 7286), ('😂', 3072), ('🚜', 2972), ('✊', 2411), ('🌾', 2363), ('🏻', 2080), ('❤', 1779), ('🤣', 1668), ('🏽', 1218), ('👇', 1108)]\n",
      "q2_time: 7.929040193557739 s\n"
     ]
    }
   ],
   "source": [
    "start_time = time.time()\n",
    "top_emojis = q2_time(file_path)\n",
    "end_time = time.time()\n",
    "print(top_emojis)\n",
    "print(\"q2_time:\", end_time - start_time, \"s\")"
   ]
  },
  {
   "cell_type": "code",
   "execution_count": 13,
   "metadata": {},
   "outputs": [
    {
     "name": "stdout",
     "output_type": "stream",
     "text": [
      "[('🙏', 7286), ('😂', 3072), ('🚜', 2972), ('✊', 2411), ('🌾', 2363), ('🏻', 2080), ('❤', 1779), ('🤣', 1668), ('🏽', 1218), ('👇', 1108)]\n",
      "q2_memory: 11.087182521820068 s\n"
     ]
    }
   ],
   "source": [
    "start_time = time.time()\n",
    "top_emojis = q2_memory(file_path)\n",
    "end_time = time.time()\n",
    "print(top_emojis)\n",
    "print(\"q2_memory:\", end_time - start_time, \"s\")"
   ]
  }
 ],
 "metadata": {
  "kernelspec": {
   "display_name": "Python 3",
   "language": "python",
   "name": "python3"
  },
  "language_info": {
   "codemirror_mode": {
    "name": "ipython",
    "version": 3
   },
   "file_extension": ".py",
   "mimetype": "text/x-python",
   "name": "python",
   "nbconvert_exporter": "python",
   "pygments_lexer": "ipython3",
   "version": "3.10.11"
  },
  "orig_nbformat": 4
 },
 "nbformat": 4,
 "nbformat_minor": 2
}
