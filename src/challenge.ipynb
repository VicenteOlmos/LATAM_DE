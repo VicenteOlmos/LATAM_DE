{
 "cells": [
  {
   "cell_type": "markdown",
   "metadata": {},
   "source": [
    "En este archivo puedes escribir lo que estimes conveniente. Te recomendamos detallar tu solución y todas las suposiciones que estás considerando. Aquí puedes ejecutar las funciones que definiste en los otros archivos de la carpeta src, medir el tiempo, memoria, etc."
   ]
  },
  {
   "cell_type": "code",
   "execution_count": 1,
   "metadata": {},
   "outputs": [],
   "source": [
    "from typing import List, Tuple\n",
    "from datetime import datetime\n",
    "import json\n",
    "import time\n",
    "from collections import Counter\n",
    "\n",
    "file_path = \"farmers-protest-tweets-2021-2-4.json\""
   ]
  },
  {
   "cell_type": "code",
   "execution_count": 2,
   "metadata": {},
   "outputs": [],
   "source": [
    "'''\n",
    "Las top 10 fechas donde hay más tweets. Mencionar el usuario (username) que más publicaciones tiene por cada uno de esos días\n",
    "{\n",
    "\"date\": \"2021-02-04\",\n",
    "    \"user\"={\n",
    "\"id\": 123456,\n",
    "\"username\": \"user1\",\n",
    "}\n",
    "}\n",
    "\n",
    "'''\n",
    "# Radix sort para ordenar los tweets por fecha \n",
    "def radix_sort_tweets(tweets):\n",
    "    max_val = max(tweet['date_ordinal'] for tweet in tweets)\n",
    "    exp = 1\n",
    "    while max_val // exp > 0:\n",
    "        counting_sort_tweets(tweets, exp)\n",
    "        exp *= 10\n",
    "# Counting sort para \n",
    "def counting_sort_tweets(tweets, exp):\n",
    "    n = len(tweets)\n",
    "    output = [None] * n\n",
    "    count = [0] * 10\n",
    "\n",
    "    for i in range(n):\n",
    "        index = (tweets[i]['date_ordinal'] // exp) % 10\n",
    "        count[index] += 1\n",
    "\n",
    "    for i in range(1, 10):\n",
    "        count[i] += count[i - 1]\n",
    "\n",
    "    i = n - 1\n",
    "    while i >= 0:\n",
    "        index = (tweets[i]['date_ordinal'] // exp) % 10\n",
    "        output[count[index] - 1] = tweets[i]\n",
    "        count[index] -= 1\n",
    "        i -= 1\n",
    "    for i in range(n):\n",
    "        tweets[i] = output[i]\n",
    "\n",
    "def q1_time(file_path: str) -> List[Tuple[datetime.date, str]]:\n",
    "    tweets = []\n",
    "    with open(file_path, 'r') as file:\n",
    "        for line in file:\n",
    "            tweet = json.loads(line)\n",
    "            date = datetime.fromisoformat(tweet['date']).date()\n",
    "            user = tweet['user']['username']\n",
    "            tweets.append({'date': date, 'date_ordinal': date.toordinal(), 'user': user})\n",
    "\n",
    "    radix_sort_tweets(tweets)\n",
    "\n",
    "    tweets_by_date_user = Counter()\n",
    "    for tweet in tweets:\n",
    "        tweets_by_date_user[(tweet['date'], tweet['user'])] += 1\n",
    "\n",
    "    tweets_by_date = Counter()\n",
    "    for tweet in tweets:\n",
    "        tweets_by_date[tweet['date']] += 1\n",
    "\n",
    "    top_dates = tweets_by_date.most_common(10)\n",
    "\n",
    "    top_users_per_date = []\n",
    "    for date, _ in top_dates:\n",
    "        top_user = ''\n",
    "        max_tweets = 0\n",
    "        for (tweet_date, user), count in tweets_by_date_user.items():\n",
    "            if tweet_date == date and count > max_tweets:\n",
    "                max_tweets = count\n",
    "                top_user = user\n",
    "        top_users_per_date.append((date, top_user))\n",
    "\n",
    "    return top_users_per_date\n",
    "\n"
   ]
  },
  {
   "cell_type": "code",
   "execution_count": 3,
   "metadata": {},
   "outputs": [],
   "source": [
    "# BST para almacenar los tweets por fecha y usuario y luego obtener los top 10 usuarios, esto esta pensando para que las proximas consultas sean mas rapidas\n",
    "def q1_memory(file_path: str) -> List[Tuple[datetime.date, str]]:\n",
    "    class BSTNode:\n",
    "        def __init__(self, date, user):\n",
    "            self.date = date\n",
    "            self.users = {user: 1}\n",
    "            self.left = None\n",
    "            self.right = None\n",
    "\n",
    "        def insert(self, date, user):\n",
    "            if date < self.date:\n",
    "                if self.left is None:\n",
    "                    self.left = BSTNode(date, user)\n",
    "                else:\n",
    "                    self.left.insert(date, user)\n",
    "            elif date > self.date:\n",
    "                if self.right is None:\n",
    "                    self.right = BSTNode(date, user)\n",
    "                else:\n",
    "                    self.right.insert(date, user)\n",
    "            else:\n",
    "                if user in self.users:\n",
    "                    self.users[user] += 1\n",
    "                else:\n",
    "                    self.users[user] = 1\n",
    "\n",
    "        def get_top_users(self, top_n):\n",
    "            data = []\n",
    "            if self.left:\n",
    "                data += self.left.get_top_users(top_n)\n",
    "            data.append((self.date, max(self.users, key=self.users.get), sum(self.users.values())))\n",
    "            if self.right:\n",
    "                data += self.right.get_top_users(top_n)\n",
    "            return sorted(data, key=lambda x: x[2], reverse=True)[:top_n]\n",
    "    root = None\n",
    "    with open(file_path, 'r') as file:\n",
    "        for line in file:\n",
    "            tweet = json.loads(line)\n",
    "            date = datetime.fromisoformat(tweet['date']).date()\n",
    "            user = tweet['user']['username']\n",
    "            if root is None:\n",
    "                root = BSTNode(date, user)\n",
    "            else:\n",
    "                root.insert(date, user)\n",
    "    return root.get_top_users(10) if root else []"
   ]
  },
  {
   "cell_type": "code",
   "execution_count": 4,
   "metadata": {},
   "outputs": [
    {
     "name": "stdout",
     "output_type": "stream",
     "text": [
      "peak memory: 81.16 MiB, increment: 6.26 MiB\n"
     ]
    }
   ],
   "source": [
    "%reload_ext memory_profiler\n",
    "%memit top_dates = q1_memory(file_path)\n"
   ]
  },
  {
   "cell_type": "code",
   "execution_count": 5,
   "metadata": {},
   "outputs": [
    {
     "name": "stdout",
     "output_type": "stream",
     "text": [
      "peak memory: 124.77 MiB, increment: 45.21 MiB\n"
     ]
    }
   ],
   "source": [
    "%reload_ext memory_profiler\n",
    "%memit top_dates = q1_time(file_path)"
   ]
  },
  {
   "cell_type": "code",
   "execution_count": 6,
   "metadata": {},
   "outputs": [
    {
     "name": "stdout",
     "output_type": "stream",
     "text": [
      "q1_time: 3.1946589946746826 s\n"
     ]
    }
   ],
   "source": [
    "start_time = time.time()\n",
    "top_dates = q1_time(file_path)\n",
    "end_time = time.time()\n",
    "print(\"q1_time:\", end_time - start_time, \"s\")"
   ]
  },
  {
   "cell_type": "code",
   "execution_count": 7,
   "metadata": {},
   "outputs": [
    {
     "name": "stdout",
     "output_type": "stream",
     "text": [
      "q1_memory: 2.971240997314453 seconds\n"
     ]
    }
   ],
   "source": [
    "start_time = time.time()\n",
    "top_dates = q1_memory(file_path)\n",
    "end_time = time.time()\n",
    "print(\"q1_memory:\", end_time - start_time, \"seconds\")"
   ]
  }
 ],
 "metadata": {
  "kernelspec": {
   "display_name": "Python 3",
   "language": "python",
   "name": "python3"
  },
  "language_info": {
   "codemirror_mode": {
    "name": "ipython",
    "version": 3
   },
   "file_extension": ".py",
   "mimetype": "text/x-python",
   "name": "python",
   "nbconvert_exporter": "python",
   "pygments_lexer": "ipython3",
   "version": "3.10.11"
  },
  "orig_nbformat": 4
 },
 "nbformat": 4,
 "nbformat_minor": 2
}
